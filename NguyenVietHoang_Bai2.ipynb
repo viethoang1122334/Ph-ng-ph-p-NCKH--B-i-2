{
 "cells": [
  {
   "cell_type": "markdown",
   "metadata": {},
   "source": [
    "# Bài tập 2"
   ]
  },
  {
   "cell_type": "markdown",
   "metadata": {},
   "source": [
    "# Mục lục\n",
    "1. [Giới thiệu](#gioithieu)\n",
    "\n",
    "2. [Phân tích dữ liệu](#dataset)\n",
    "\n",
    "    2.1 [Thêm thư viện](#library)\n",
    "    \n",
    "    2.2 [Thêm đường dẫn dữ liệu](#data)\n",
    "    \n",
    "    2.3 [Mô tả dữ liệu](#description)\n",
    "    \n",
    "    2.4 [Mô tả dữ liệu số](#numerical)\n",
    "\n",
    "3. [Các yếu tố có thể ảnh hưởng đến thu nhập](#question1)\n",
    "\n",
    "    3.1 [Age](#age1)\n",
    "    \n",
    "    3.2 [Capital-gain](#capitalgain)\n",
    "    \n",
    "    3.3 [Capital-loss](#capitalloss)\n",
    "    \n",
    "    3.4 [Educational-num](#educationalnum)\n",
    "    \n",
    "    3.5 [Hour-per-week](#hourperweek)\n",
    "\n",
    "4. [Dự đoán về đặc điểm của một người có thu nhập cao](#question2)"
   ]
  },
  {
   "cell_type": "markdown",
   "metadata": {},
   "source": [
    "## 1. Giới thiệu <a name=\"introduction\"></a>\n",
    "- Đây là dữ liệu thu nhập hằng năm kèm theo các yếu tố như trình độ học vấn, độ tuổi, giới tính, nghề nghiệp,...Tập dữ liệu này được lấy từ tập databases machine learning của kho lưu trữ UCI http://www.cs.toronto.edu/~delve/data/adult/desc.html. \n",
    "\n",
    "- Phần trình bày bao gồm 3 phần. Đầu tiên là mô tả dữ liệu, sau đó là kiểm tra một vài yếu tố có thể ảnh hưởng đến thu nhập, cuối cùng là dự đoán một người có thu nhập cao thì có thể sẽ có những đặc điểm nào.\n",
    "\n",
    "- Để thuận tiện cho việc mô tả dữ liệu, phần trình bày sẽ sử dụng ngôn ngữ lập trình python chạy trên jupyter notebook."
   ]
  },
  {
   "cell_type": "markdown",
   "metadata": {},
   "source": [
    "## 2. Phân tích dữ liệu<a name=\"dataset\"></a>"
   ]
  },
  {
   "cell_type": "markdown",
   "metadata": {},
   "source": [
    "#### Thêm thư viện<a name=\"library\"></a>"
   ]
  },
  {
   "cell_type": "code",
   "execution_count": 2,
   "metadata": {},
   "outputs": [],
   "source": [
    "import scipy\n",
    "import numpy as np\n",
    "import matplotlib.pyplot as plt\n",
    "import pandas as pd\n",
    "from scipy.stats import ttest_ind"
   ]
  },
  {
   "cell_type": "markdown",
   "metadata": {},
   "source": [
    "#### Thêm đường dẫn đến tập dữ liệu<a name=\"data\"></a>"
   ]
  },
  {
   "cell_type": "code",
   "execution_count": 3,
   "metadata": {},
   "outputs": [],
   "source": [
    "url = \"D:\\Hoang\\SauDaiHoc\\PhuongPhapNCKH\\Bai 2\\income1.csv\"\n",
    "data = pd.read_csv(url)"
   ]
  },
  {
   "cell_type": "markdown",
   "metadata": {},
   "source": [
    "#### Mô tả dữ liệu<a name=\"description\"></a>"
   ]
  },
  {
   "cell_type": "code",
   "execution_count": 4,
   "metadata": {},
   "outputs": [
    {
     "name": "stdout",
     "output_type": "stream",
     "text": [
      "Kích thước dữ liệu là: (48842, 15)\n"
     ]
    }
   ],
   "source": [
    "# Kích thước của tập dữ liệu\n",
    "print(\"Kích thước dữ liệu là: {}\".format(data.shape))"
   ]
  },
  {
   "cell_type": "code",
   "execution_count": 5,
   "metadata": {},
   "outputs": [
    {
     "data": {
      "text/plain": [
       "Index(['age', 'workclass', 'fnlwgt', 'education', 'educationalnum',\n",
       "       'marital-status', 'occupation', 'relationship', 'race', 'gender',\n",
       "       'capitalgain', 'capitalloss', 'hoursperweek', 'native-country',\n",
       "       'income'],\n",
       "      dtype='object')"
      ]
     },
     "execution_count": 5,
     "metadata": {},
     "output_type": "execute_result"
    }
   ],
   "source": [
    "# Tên các cột của tập dữ liệu\n",
    "data.columns"
   ]
  },
  {
   "cell_type": "code",
   "execution_count": 6,
   "metadata": {},
   "outputs": [
    {
     "data": {
      "text/html": [
       "<div>\n",
       "<style scoped>\n",
       "    .dataframe tbody tr th:only-of-type {\n",
       "        vertical-align: middle;\n",
       "    }\n",
       "\n",
       "    .dataframe tbody tr th {\n",
       "        vertical-align: top;\n",
       "    }\n",
       "\n",
       "    .dataframe thead th {\n",
       "        text-align: right;\n",
       "    }\n",
       "</style>\n",
       "<table border=\"1\" class=\"dataframe\">\n",
       "  <thead>\n",
       "    <tr style=\"text-align: right;\">\n",
       "      <th></th>\n",
       "      <th>age</th>\n",
       "      <th>workclass</th>\n",
       "      <th>fnlwgt</th>\n",
       "      <th>education</th>\n",
       "      <th>educationalnum</th>\n",
       "      <th>marital-status</th>\n",
       "      <th>occupation</th>\n",
       "      <th>relationship</th>\n",
       "      <th>race</th>\n",
       "      <th>gender</th>\n",
       "      <th>capitalgain</th>\n",
       "      <th>capitalloss</th>\n",
       "      <th>hoursperweek</th>\n",
       "      <th>native-country</th>\n",
       "      <th>income</th>\n",
       "    </tr>\n",
       "  </thead>\n",
       "  <tbody>\n",
       "    <tr>\n",
       "      <td>0</td>\n",
       "      <td>25</td>\n",
       "      <td>Private</td>\n",
       "      <td>226802</td>\n",
       "      <td>11th</td>\n",
       "      <td>7</td>\n",
       "      <td>Never-married</td>\n",
       "      <td>Machine-op-inspct</td>\n",
       "      <td>Own-child</td>\n",
       "      <td>Black</td>\n",
       "      <td>Male</td>\n",
       "      <td>0</td>\n",
       "      <td>0</td>\n",
       "      <td>40</td>\n",
       "      <td>United-States</td>\n",
       "      <td>&lt;=50K</td>\n",
       "    </tr>\n",
       "    <tr>\n",
       "      <td>1</td>\n",
       "      <td>38</td>\n",
       "      <td>Private</td>\n",
       "      <td>89814</td>\n",
       "      <td>HS-grad</td>\n",
       "      <td>9</td>\n",
       "      <td>Married-civ-spouse</td>\n",
       "      <td>Farming-fishing</td>\n",
       "      <td>Husband</td>\n",
       "      <td>White</td>\n",
       "      <td>Male</td>\n",
       "      <td>0</td>\n",
       "      <td>0</td>\n",
       "      <td>50</td>\n",
       "      <td>United-States</td>\n",
       "      <td>&lt;=50K</td>\n",
       "    </tr>\n",
       "    <tr>\n",
       "      <td>2</td>\n",
       "      <td>28</td>\n",
       "      <td>Local-gov</td>\n",
       "      <td>336951</td>\n",
       "      <td>Assoc-acdm</td>\n",
       "      <td>12</td>\n",
       "      <td>Married-civ-spouse</td>\n",
       "      <td>Protective-serv</td>\n",
       "      <td>Husband</td>\n",
       "      <td>White</td>\n",
       "      <td>Male</td>\n",
       "      <td>0</td>\n",
       "      <td>0</td>\n",
       "      <td>40</td>\n",
       "      <td>United-States</td>\n",
       "      <td>&gt;50K</td>\n",
       "    </tr>\n",
       "    <tr>\n",
       "      <td>3</td>\n",
       "      <td>44</td>\n",
       "      <td>Private</td>\n",
       "      <td>160323</td>\n",
       "      <td>Some-college</td>\n",
       "      <td>10</td>\n",
       "      <td>Married-civ-spouse</td>\n",
       "      <td>Machine-op-inspct</td>\n",
       "      <td>Husband</td>\n",
       "      <td>Black</td>\n",
       "      <td>Male</td>\n",
       "      <td>7688</td>\n",
       "      <td>0</td>\n",
       "      <td>40</td>\n",
       "      <td>United-States</td>\n",
       "      <td>&gt;50K</td>\n",
       "    </tr>\n",
       "    <tr>\n",
       "      <td>4</td>\n",
       "      <td>18</td>\n",
       "      <td>?</td>\n",
       "      <td>103497</td>\n",
       "      <td>Some-college</td>\n",
       "      <td>10</td>\n",
       "      <td>Never-married</td>\n",
       "      <td>?</td>\n",
       "      <td>Own-child</td>\n",
       "      <td>White</td>\n",
       "      <td>Female</td>\n",
       "      <td>0</td>\n",
       "      <td>0</td>\n",
       "      <td>30</td>\n",
       "      <td>United-States</td>\n",
       "      <td>&lt;=50K</td>\n",
       "    </tr>\n",
       "  </tbody>\n",
       "</table>\n",
       "</div>"
      ],
      "text/plain": [
       "   age  workclass  fnlwgt     education  educationalnum      marital-status  \\\n",
       "0   25    Private  226802          11th               7       Never-married   \n",
       "1   38    Private   89814       HS-grad               9  Married-civ-spouse   \n",
       "2   28  Local-gov  336951    Assoc-acdm              12  Married-civ-spouse   \n",
       "3   44    Private  160323  Some-college              10  Married-civ-spouse   \n",
       "4   18          ?  103497  Some-college              10       Never-married   \n",
       "\n",
       "          occupation relationship   race  gender  capitalgain  capitalloss  \\\n",
       "0  Machine-op-inspct    Own-child  Black    Male            0            0   \n",
       "1    Farming-fishing      Husband  White    Male            0            0   \n",
       "2    Protective-serv      Husband  White    Male            0            0   \n",
       "3  Machine-op-inspct      Husband  Black    Male         7688            0   \n",
       "4                  ?    Own-child  White  Female            0            0   \n",
       "\n",
       "   hoursperweek native-country income  \n",
       "0            40  United-States  <=50K  \n",
       "1            50  United-States  <=50K  \n",
       "2            40  United-States   >50K  \n",
       "3            40  United-States   >50K  \n",
       "4            30  United-States  <=50K  "
      ]
     },
     "execution_count": 6,
     "metadata": {},
     "output_type": "execute_result"
    }
   ],
   "source": [
    "# 5 dòng đầu của tập dữ liệu\n",
    "data.head()"
   ]
  },
  {
   "cell_type": "code",
   "execution_count": 13,
   "metadata": {},
   "outputs": [
    {
     "name": "stdout",
     "output_type": "stream",
     "text": [
      "<class 'pandas.core.frame.DataFrame'>\n",
      "RangeIndex: 48842 entries, 0 to 48841\n",
      "Data columns (total 15 columns):\n",
      "age               48842 non-null int64\n",
      "workclass         48842 non-null object\n",
      "fnlwgt            48842 non-null int64\n",
      "education         48842 non-null object\n",
      "educationalnum    48842 non-null int64\n",
      "marital-status    48842 non-null object\n",
      "occupation        48842 non-null object\n",
      "relationship      48842 non-null object\n",
      "race              48842 non-null object\n",
      "gender            48842 non-null object\n",
      "capitalgain       48842 non-null int64\n",
      "capitalloss       48842 non-null int64\n",
      "hoursperweek      48842 non-null int64\n",
      "native-country    48842 non-null object\n",
      "income            48842 non-null object\n",
      "dtypes: int64(6), object(9)\n",
      "memory usage: 5.6+ MB\n"
     ]
    }
   ],
   "source": [
    "# Kiểu dữ liệu của các cột\n",
    "data.info()"
   ]
  },
  {
   "cell_type": "markdown",
   "metadata": {},
   "source": [
    "Dữ liệu hiện tại không có gì bất thường"
   ]
  },
  {
   "cell_type": "code",
   "execution_count": 9,
   "metadata": {},
   "outputs": [
    {
     "data": {
      "text/plain": [
       "age               0\n",
       "workclass         0\n",
       "fnlwgt            0\n",
       "education         0\n",
       "educationalnum    0\n",
       "marital-status    0\n",
       "occupation        0\n",
       "relationship      0\n",
       "race              0\n",
       "gender            0\n",
       "capitalgain       0\n",
       "capitalloss       0\n",
       "hoursperweek      0\n",
       "native-country    0\n",
       "income            0\n",
       "dtype: int64"
      ]
     },
     "execution_count": 9,
     "metadata": {},
     "output_type": "execute_result"
    }
   ],
   "source": [
    "# Kiểm tra giá trị trống\n",
    "data.isnull().sum()"
   ]
  },
  {
   "cell_type": "markdown",
   "metadata": {},
   "source": [
    "Không có giá trị trống"
   ]
  },
  {
   "cell_type": "code",
   "execution_count": 7,
   "metadata": {},
   "outputs": [
    {
     "data": {
      "text/html": [
       "<div>\n",
       "<style scoped>\n",
       "    .dataframe tbody tr th:only-of-type {\n",
       "        vertical-align: middle;\n",
       "    }\n",
       "\n",
       "    .dataframe tbody tr th {\n",
       "        vertical-align: top;\n",
       "    }\n",
       "\n",
       "    .dataframe thead th {\n",
       "        text-align: right;\n",
       "    }\n",
       "</style>\n",
       "<table border=\"1\" class=\"dataframe\">\n",
       "  <thead>\n",
       "    <tr style=\"text-align: right;\">\n",
       "      <th></th>\n",
       "      <th>age</th>\n",
       "      <th>fnlwgt</th>\n",
       "      <th>educationalnum</th>\n",
       "      <th>capitalgain</th>\n",
       "      <th>capitalloss</th>\n",
       "      <th>hoursperweek</th>\n",
       "    </tr>\n",
       "  </thead>\n",
       "  <tbody>\n",
       "    <tr>\n",
       "      <td>count</td>\n",
       "      <td>48842.000000</td>\n",
       "      <td>4.884200e+04</td>\n",
       "      <td>48842.000000</td>\n",
       "      <td>48842.000000</td>\n",
       "      <td>48842.000000</td>\n",
       "      <td>48842.000000</td>\n",
       "    </tr>\n",
       "    <tr>\n",
       "      <td>mean</td>\n",
       "      <td>38.643585</td>\n",
       "      <td>1.896641e+05</td>\n",
       "      <td>10.078089</td>\n",
       "      <td>1079.067626</td>\n",
       "      <td>87.502314</td>\n",
       "      <td>40.422382</td>\n",
       "    </tr>\n",
       "    <tr>\n",
       "      <td>std</td>\n",
       "      <td>13.710510</td>\n",
       "      <td>1.056040e+05</td>\n",
       "      <td>2.570973</td>\n",
       "      <td>7452.019058</td>\n",
       "      <td>403.004552</td>\n",
       "      <td>12.391444</td>\n",
       "    </tr>\n",
       "    <tr>\n",
       "      <td>min</td>\n",
       "      <td>17.000000</td>\n",
       "      <td>1.228500e+04</td>\n",
       "      <td>1.000000</td>\n",
       "      <td>0.000000</td>\n",
       "      <td>0.000000</td>\n",
       "      <td>1.000000</td>\n",
       "    </tr>\n",
       "    <tr>\n",
       "      <td>25%</td>\n",
       "      <td>28.000000</td>\n",
       "      <td>1.175505e+05</td>\n",
       "      <td>9.000000</td>\n",
       "      <td>0.000000</td>\n",
       "      <td>0.000000</td>\n",
       "      <td>40.000000</td>\n",
       "    </tr>\n",
       "    <tr>\n",
       "      <td>50%</td>\n",
       "      <td>37.000000</td>\n",
       "      <td>1.781445e+05</td>\n",
       "      <td>10.000000</td>\n",
       "      <td>0.000000</td>\n",
       "      <td>0.000000</td>\n",
       "      <td>40.000000</td>\n",
       "    </tr>\n",
       "    <tr>\n",
       "      <td>75%</td>\n",
       "      <td>48.000000</td>\n",
       "      <td>2.376420e+05</td>\n",
       "      <td>12.000000</td>\n",
       "      <td>0.000000</td>\n",
       "      <td>0.000000</td>\n",
       "      <td>45.000000</td>\n",
       "    </tr>\n",
       "    <tr>\n",
       "      <td>max</td>\n",
       "      <td>90.000000</td>\n",
       "      <td>1.490400e+06</td>\n",
       "      <td>16.000000</td>\n",
       "      <td>99999.000000</td>\n",
       "      <td>4356.000000</td>\n",
       "      <td>99.000000</td>\n",
       "    </tr>\n",
       "  </tbody>\n",
       "</table>\n",
       "</div>"
      ],
      "text/plain": [
       "                age        fnlwgt  educationalnum   capitalgain   capitalloss  \\\n",
       "count  48842.000000  4.884200e+04    48842.000000  48842.000000  48842.000000   \n",
       "mean      38.643585  1.896641e+05       10.078089   1079.067626     87.502314   \n",
       "std       13.710510  1.056040e+05        2.570973   7452.019058    403.004552   \n",
       "min       17.000000  1.228500e+04        1.000000      0.000000      0.000000   \n",
       "25%       28.000000  1.175505e+05        9.000000      0.000000      0.000000   \n",
       "50%       37.000000  1.781445e+05       10.000000      0.000000      0.000000   \n",
       "75%       48.000000  2.376420e+05       12.000000      0.000000      0.000000   \n",
       "max       90.000000  1.490400e+06       16.000000  99999.000000   4356.000000   \n",
       "\n",
       "       hoursperweek  \n",
       "count  48842.000000  \n",
       "mean      40.422382  \n",
       "std       12.391444  \n",
       "min        1.000000  \n",
       "25%       40.000000  \n",
       "50%       40.000000  \n",
       "75%       45.000000  \n",
       "max       99.000000  "
      ]
     },
     "execution_count": 7,
     "metadata": {},
     "output_type": "execute_result"
    }
   ],
   "source": [
    "# Mô tả tập dữ liệu\n",
    "perc = [.25, .5, .75] # percentile list\n",
    "data.describe(percentiles = perc, include = None, exclude = None)"
   ]
  },
  {
   "cell_type": "markdown",
   "metadata": {},
   "source": [
    "- count là số lượng\n",
    "- mean là giá trị trung bình\n",
    "- std là độ lệch chuẩn\n",
    "- min, max là giá trị nhỏ nhất và lớn nhất\n",
    "- 25%,50%,75% là giá trị ở vị trí 25%,50%,75% trong tổng thể"
   ]
  },
  {
   "cell_type": "markdown",
   "metadata": {},
   "source": [
    "#### Trực quan hóa dữ liệu số (dữ liệu dạng category không phân tích trong bài tập này)<a name=\"numerical\"></a>"
   ]
  },
  {
   "cell_type": "code",
   "execution_count": 14,
   "metadata": {},
   "outputs": [
    {
     "data": {
      "text/plain": [
       "Index(['age', 'fnlwgt', 'educationalnum', 'capitalgain', 'capitalloss',\n",
       "       'hoursperweek'],\n",
       "      dtype='object')"
      ]
     },
     "execution_count": 14,
     "metadata": {},
     "output_type": "execute_result"
    }
   ],
   "source": [
    "# Xác định tên dữ liệu số\n",
    "data.select_dtypes(['float64','int64']).columns"
   ]
  },
  {
   "cell_type": "code",
   "execution_count": 12,
   "metadata": {},
   "outputs": [
    {
     "data": {
      "image/png": "[encoded data removed]",
      "text/plain": [
       "<Figure size 1080x1080 with 6 Axes>"
      ]
     },
     "metadata": {
      "needs_background": "light"
     },
     "output_type": "display_data"
    }
   ],
   "source": [
    "# Vẽ đồ thị phân bố dữ liệu số\n",
    "data.hist(figsize=(15,15))\n",
    "plt.show()"
   ]
  },
  {
   "cell_type": "markdown",
   "metadata": {},
   "source": [
    "#### Nhận xét\n",
    "- Độ tuổi khảo sát phân bố đều từ khoảng 18 đến 45 tuổi, sau 45 tuổi bắt đầu giảm dần\n",
    "- Capital-gain và Capital-loss tập trung chủ yếu là 0\n",
    "- Ở Education-num, phân bố tập trung chủ yếu trong khoảng [9,11] và 14\n",
    "- Ở fnlwgt, phân bố tập trung chủ yếu từ 0 dến 300000, ở mức 400000 chiếm một số lượng nhỏ và từ 420000 chiếm số lượng rất ít\n",
    "- Ở hours-per-week, tập trung chủ yếu là 40"
   ]
  },
  {
   "cell_type": "markdown",
   "metadata": {},
   "source": [
    "## 3. Các yếu tố có thể ảnh hưởng đến thu nhập<a name=\"question1\"></a>"
   ]
  },
  {
   "cell_type": "markdown",
   "metadata": {},
   "source": [
    "Phần này sẽ chọn 5 yếu tố gồm age, capital-gain, capital-loss, educational-num, hours-per-week là các biến số và sử dụng independent t-test để kiểm tra xem những yếu tố nào ảnh hưởng đến thu nhập."
   ]
  },
  {
   "cell_type": "markdown",
   "metadata": {},
   "source": [
    "### 1.1 Age<a name=\"age1\"></a>"
   ]
  },
  {
   "cell_type": "code",
   "execution_count": 9,
   "metadata": {},
   "outputs": [
    {
     "data": {
      "text/plain": [
       "<=50K    37155\n",
       ">50K     11687\n",
       "Name: income, dtype: int64"
      ]
     },
     "execution_count": 9,
     "metadata": {},
     "output_type": "execute_result"
    }
   ],
   "source": [
    "data['income'].value_counts()"
   ]
  },
  {
   "cell_type": "code",
   "execution_count": 10,
   "metadata": {},
   "outputs": [
    {
     "name": "stdout",
     "output_type": "stream",
     "text": [
      "Phần trăm người có thu nhập lớn hơn 50k là 23.9% và phần trăm người có thu nhập nhỏ hơn 76.1%\n"
     ]
    }
   ],
   "source": [
    "print(\"Phần trăm người có thu nhập lớn hơn 50k là {:.1f}% và phần trăm người có thu nhập nhỏ hơn {:.1f}%\".format(\n",
    "    data[data['income'] == '>50K'].shape[0] / data.shape[0]*100,\n",
    "    data[data['income'] == '<=50K'].shape[0] / data.shape[0]*100))"
   ]
  },
  {
   "cell_type": "code",
   "execution_count": 11,
   "metadata": {},
   "outputs": [
    {
     "data": {
      "text/plain": [
       "111.48258997232631"
      ]
     },
     "execution_count": 11,
     "metadata": {},
     "output_type": "execute_result"
    },
    {
     "data": {
      "image/png": "[encoded data removed]",
      "text/plain": [
       "<Figure size 432x288 with 1 Axes>"
      ]
     },
     "metadata": {
      "needs_background": "light"
     },
     "output_type": "display_data"
    }
   ],
   "source": [
    "plt.hist(data.age[data.income == '>50K'], label=['Age, >50K'])\n",
    "plt.legend(loc='upper right')\n",
    "plt.xlabel(\"Age\")\n",
    "plt.ylabel(\"Count\")\n",
    "np.var(data.age[data.income == '>50K'])"
   ]
  },
  {
   "cell_type": "code",
   "execution_count": 12,
   "metadata": {},
   "outputs": [
    {
     "data": {
      "text/plain": [
       "198.92079134062269"
      ]
     },
     "execution_count": 12,
     "metadata": {},
     "output_type": "execute_result"
    },
    {
     "data": {
      "image/png": "[encoded data removed]",
      "text/plain": [
       "<Figure size 432x288 with 1 Axes>"
      ]
     },
     "metadata": {
      "needs_background": "light"
     },
     "output_type": "display_data"
    }
   ],
   "source": [
    "plt.hist(data.age[data.income == '<=50K'], label=['Age,<=50K'])\n",
    "plt.xlabel(\"Age\")\n",
    "plt.ylabel(\"Count\")\n",
    "plt.legend(loc='upper right')\n",
    "np.var(data.age[data.income == '<=50K'])"
   ]
  },
  {
   "cell_type": "markdown",
   "metadata": {},
   "source": [
    "#### Kiểm tra phương sai bằng nhau"
   ]
  },
  {
   "cell_type": "markdown",
   "metadata": {},
   "source": [
    "Giả thuyết null: Các phương sai là bằng nhau"
   ]
  },
  {
   "cell_type": "code",
   "execution_count": 13,
   "metadata": {},
   "outputs": [
    {
     "data": {
      "text/plain": [
       "LeveneResult(statistic=1067.380257766712, pvalue=1.2876599116732577e-231)"
      ]
     },
     "execution_count": 13,
     "metadata": {},
     "output_type": "execute_result"
    }
   ],
   "source": [
    "scipy.stats.levene(data.age[data.income == '>50K'],data.age[data.income == '<=50K'])"
   ]
  },
  {
   "cell_type": "markdown",
   "metadata": {},
   "source": [
    "pvalue<0.05. Các phương sai là không bằng nhau"
   ]
  },
  {
   "cell_type": "markdown",
   "metadata": {},
   "source": [
    "#### t-test\n",
    "Giả thuyết null H0: Không có sự khác biệt đáng kể giữa tuổi trong 2 nhóm thu nhập"
   ]
  },
  {
   "cell_type": "code",
   "execution_count": 14,
   "metadata": {},
   "outputs": [
    {
     "data": {
      "text/plain": [
       "Ttest_indResult(statistic=60.66031699711951, pvalue=0.0)"
      ]
     },
     "execution_count": 14,
     "metadata": {},
     "output_type": "execute_result"
    }
   ],
   "source": [
    "ttest_ind(data.age[data.income == '>50K'],data.age[data.income == '<=50K'],equal_var=False,nan_policy='omit')"
   ]
  },
  {
   "cell_type": "markdown",
   "metadata": {},
   "source": [
    "pvalue<0.05. Phủ định H0. Có sự khác biệt giữa tuổi trong 2 nhóm thu nhập"
   ]
  },
  {
   "cell_type": "markdown",
   "metadata": {},
   "source": [
    "### 1.2 Capital-gain <a name=\"capitalgain\"></a>"
   ]
  },
  {
   "cell_type": "code",
   "execution_count": 15,
   "metadata": {},
   "outputs": [
    {
     "data": {
      "text/plain": [
       "217743658.48297718"
      ]
     },
     "execution_count": 15,
     "metadata": {},
     "output_type": "execute_result"
    },
    {
     "data": {
      "image/png": "[encoded data removed]",
      "text/plain": [
       "<Figure size 432x288 with 1 Axes>"
      ]
     },
     "metadata": {
      "needs_background": "light"
     },
     "output_type": "display_data"
    }
   ],
   "source": [
    "plt.hist(data.capitalgain[data.income == '>50K'], label =['capital-gain, >50K'])\n",
    "plt.xlabel(\"capital-gain\")\n",
    "plt.ylabel(\"Count\")\n",
    "plt.legend(loc='upper right')\n",
    "np.var(data.capitalgain[data.income == '>50K'])"
   ]
  },
  {
   "cell_type": "code",
   "execution_count": 16,
   "metadata": {},
   "outputs": [
    {
     "data": {
      "text/plain": [
       "877483.8359053261"
      ]
     },
     "execution_count": 16,
     "metadata": {},
     "output_type": "execute_result"
    },
    {
     "data": {
      "image/png": "[encoded data removed]",
      "text/plain": [
       "<Figure size 432x288 with 1 Axes>"
      ]
     },
     "metadata": {
      "needs_background": "light"
     },
     "output_type": "display_data"
    }
   ],
   "source": [
    "plt.hist(data.capitalgain[data.income == '<=50K'], label=['capital-gain, <=50K'])\n",
    "plt.xlabel(\"capital-loss\")\n",
    "plt.ylabel(\"Count\")\n",
    "plt.legend(loc='upper right')\n",
    "np.var(data.capitalgain[data.income == '<=50K'])"
   ]
  },
  {
   "cell_type": "markdown",
   "metadata": {},
   "source": [
    "#### Kiểm tra phương sai bằng nhau"
   ]
  },
  {
   "cell_type": "markdown",
   "metadata": {},
   "source": [
    "Giả thuyết null: Các phương sai là bằng nhau"
   ]
  },
  {
   "cell_type": "code",
   "execution_count": 17,
   "metadata": {},
   "outputs": [
    {
     "data": {
      "text/plain": [
       "LeveneResult(statistic=2556.1790709041784, pvalue=0.0)"
      ]
     },
     "execution_count": 17,
     "metadata": {},
     "output_type": "execute_result"
    }
   ],
   "source": [
    "scipy.stats.levene(data.capitalgain[data.income == '>50K'],data.capitalgain[data.income == '<=50K'])"
   ]
  },
  {
   "cell_type": "markdown",
   "metadata": {},
   "source": [
    "pvalue<0.05. Các phương sai là không bằng nhau"
   ]
  },
  {
   "cell_type": "markdown",
   "metadata": {},
   "source": [
    "#### t-test\n",
    "Giả thuyết null H0: Không có sự khác biệt đáng kể trong capital-gain giữa hai nhóm thu nhập cao và thấp "
   ]
  },
  {
   "cell_type": "code",
   "execution_count": 18,
   "metadata": {},
   "outputs": [
    {
     "data": {
      "text/plain": [
       "Ttest_indResult(statistic=28.517938985920075, pvalue=5.257854342800737e-173)"
      ]
     },
     "execution_count": 18,
     "metadata": {},
     "output_type": "execute_result"
    }
   ],
   "source": [
    "ttest_ind(data.capitalgain[data.income == '>50K'],data.capitalgain[data.income == '<=50K'],equal_var=False,nan_policy='omit')"
   ]
  },
  {
   "cell_type": "markdown",
   "metadata": {},
   "source": [
    "pvalue<0.05. Phủ định H0. Có sự khác biệt trong capital-gain giữa hai nhóm thu nhập cao và thấp"
   ]
  },
  {
   "cell_type": "markdown",
   "metadata": {},
   "source": [
    "### 1.3 Capital-loss<a name=\"capitalloss\"></a>"
   ]
  },
  {
   "cell_type": "code",
   "execution_count": 19,
   "metadata": {},
   "outputs": [
    {
     "data": {
      "text/plain": [
       "351869.9060447618"
      ]
     },
     "execution_count": 19,
     "metadata": {},
     "output_type": "execute_result"
    },
    {
     "data": {
      "image/png": "[encoded data removed]",
      "text/plain": [
       "<Figure size 432x288 with 1 Axes>"
      ]
     },
     "metadata": {
      "needs_background": "light"
     },
     "output_type": "display_data"
    }
   ],
   "source": [
    "plt.hist(data.capitalloss[data.income == '>50K'], label=['capital-loss, >50K'])\n",
    "plt.xlabel(\"capital-loss\")\n",
    "plt.ylabel(\"Count\")\n",
    "plt.legend(loc='upper right')\n",
    "np.var(data.capitalloss[data.income == '>50K'])\n"
   ]
  },
  {
   "cell_type": "code",
   "execution_count": 20,
   "metadata": {},
   "outputs": [
    {
     "data": {
      "text/plain": [
       "98166.7832417144"
      ]
     },
     "execution_count": 20,
     "metadata": {},
     "output_type": "execute_result"
    },
    {
     "data": {
      "image/png": "[encoded data removed]",
      "text/plain": [
       "<Figure size 432x288 with 1 Axes>"
      ]
     },
     "metadata": {
      "needs_background": "light"
     },
     "output_type": "display_data"
    }
   ],
   "source": [
    "plt.hist(data.capitalloss[data.income == '<=50K'], label=['capital-loss, <=50K'])\n",
    "plt.xlabel(\"capital-loss\")\n",
    "plt.ylabel(\"Count\")\n",
    "plt.legend(loc='upper right')\n",
    "np.var(data.capitalloss[data.income == '<=50K'])"
   ]
  },
  {
   "cell_type": "markdown",
   "metadata": {},
   "source": [
    "#### Kiểm tra phương sai bằng nhau"
   ]
  },
  {
   "cell_type": "markdown",
   "metadata": {},
   "source": [
    "Giả thuyết null: Các phương sai là bằng nhau"
   ]
  },
  {
   "cell_type": "code",
   "execution_count": 21,
   "metadata": {},
   "outputs": [
    {
     "data": {
      "text/plain": [
       "LeveneResult(statistic=1087.0275697773493, pvalue=8.543599059076473e-236)"
      ]
     },
     "execution_count": 21,
     "metadata": {},
     "output_type": "execute_result"
    }
   ],
   "source": [
    "scipy.stats.levene(data.capitalloss[data.income == '>50K'],data.capitalloss[data.income == '<=50K'])"
   ]
  },
  {
   "cell_type": "markdown",
   "metadata": {},
   "source": [
    "pvalue<0.05. Các phương sai là không bằng nhau"
   ]
  },
  {
   "cell_type": "markdown",
   "metadata": {},
   "source": [
    "#### t-test\n",
    "Giả thuyết H0: Không có sự khác biệt đáng kể trong capital-loss giữa hai nhóm thu nhập cao và thấp"
   ]
  },
  {
   "cell_type": "code",
   "execution_count": 22,
   "metadata": {},
   "outputs": [
    {
     "data": {
      "text/plain": [
       "Ttest_indResult(statistic=24.353911506795583, pvalue=2.6487594061649215e-128)"
      ]
     },
     "execution_count": 22,
     "metadata": {},
     "output_type": "execute_result"
    }
   ],
   "source": [
    "ttest_ind(data.capitalloss[data.income == '>50K'],data.capitalloss[data.income == '<=50K'],equal_var=False,nan_policy='omit')"
   ]
  },
  {
   "cell_type": "markdown",
   "metadata": {},
   "source": [
    "pvalue<0.05. Phủ định H0. Có sự khác biệt trong capital-loss giữa hai nhóm thu nhập cao và thấp"
   ]
  },
  {
   "cell_type": "markdown",
   "metadata": {},
   "source": [
    "### 1.4 Educational-num <a name=\"educationalnum\"></a>"
   ]
  },
  {
   "cell_type": "code",
   "execution_count": 23,
   "metadata": {},
   "outputs": [
    {
     "data": {
      "text/plain": [
       "5.67641207714321"
      ]
     },
     "execution_count": 23,
     "metadata": {},
     "output_type": "execute_result"
    },
    {
     "data": {
      "image/png": "[encoded data removed]",
      "text/plain": [
       "<Figure size 432x288 with 1 Axes>"
      ]
     },
     "metadata": {
      "needs_background": "light"
     },
     "output_type": "display_data"
    }
   ],
   "source": [
    "plt.hist(data.educationalnum[data.income == '>50K'], label=['educational-num, >50K'])\n",
    "plt.xlabel(\"capital-loss\")\n",
    "plt.ylabel(\"Count\")\n",
    "plt.legend(loc='upper right')\n",
    "np.var(data.educationalnum[data.income == '>50K'])\n"
   ]
  },
  {
   "cell_type": "code",
   "execution_count": 24,
   "metadata": {},
   "outputs": [
    {
     "data": {
      "text/plain": [
       "5.94208896774989"
      ]
     },
     "execution_count": 24,
     "metadata": {},
     "output_type": "execute_result"
    },
    {
     "data": {
      "image/png": "[encoded data removed]",
      "text/plain": [
       "<Figure size 432x288 with 1 Axes>"
      ]
     },
     "metadata": {
      "needs_background": "light"
     },
     "output_type": "display_data"
    }
   ],
   "source": [
    "plt.hist(data.educationalnum[data.income == '<=50K'], label=['educational-num, <=50K'])\n",
    "plt.xlabel(\"educational-num\")\n",
    "plt.ylabel(\"Count\")\n",
    "plt.legend(loc='upper right')\n",
    "np.var(data.educationalnum[data.income == '<=50K'])"
   ]
  },
  {
   "cell_type": "markdown",
   "metadata": {},
   "source": [
    "### Kiểm tra phương sai bằng nhau"
   ]
  },
  {
   "cell_type": "code",
   "execution_count": 25,
   "metadata": {},
   "outputs": [
    {
     "data": {
      "text/plain": [
       "LeveneResult(statistic=419.24281968037536, pvalue=8.76235492738118e-93)"
      ]
     },
     "execution_count": 25,
     "metadata": {},
     "output_type": "execute_result"
    }
   ],
   "source": [
    "scipy.stats.levene(data.educationalnum[data.income == '>50K'],data.educationalnum[data.income == '<=50K'])"
   ]
  },
  {
   "cell_type": "markdown",
   "metadata": {},
   "source": [
    "pvalue<0.05. Các phương sai là không bằng nhau"
   ]
  },
  {
   "cell_type": "markdown",
   "metadata": {},
   "source": [
    "### t-test"
   ]
  },
  {
   "cell_type": "code",
   "execution_count": 26,
   "metadata": {},
   "outputs": [
    {
     "data": {
      "text/plain": [
       "Ttest_indResult(statistic=78.87845255016076, pvalue=0.0)"
      ]
     },
     "execution_count": 26,
     "metadata": {},
     "output_type": "execute_result"
    }
   ],
   "source": [
    "ttest_ind(data.educationalnum[data.income == '>50K'],data.educationalnum[data.income == '<=50K'],equal_var=False,nan_policy='omit')"
   ]
  },
  {
   "cell_type": "markdown",
   "metadata": {},
   "source": [
    "pvalue<0.05. Có sự khác biệt trong educaltion-num giữa hai nhóm thu nhập cao và thấp"
   ]
  },
  {
   "cell_type": "markdown",
   "metadata": {},
   "source": [
    "### 1.5 Hours-per-week <a name=\"hourperweek\"></a>"
   ]
  },
  {
   "cell_type": "code",
   "execution_count": 27,
   "metadata": {},
   "outputs": [
    {
     "data": {
      "text/plain": [
       "123.00366385362885"
      ]
     },
     "execution_count": 27,
     "metadata": {},
     "output_type": "execute_result"
    },
    {
     "data": {
      "image/png": "[encoded data removed]",
      "text/plain": [
       "<Figure size 432x288 with 1 Axes>"
      ]
     },
     "metadata": {
      "needs_background": "light"
     },
     "output_type": "display_data"
    }
   ],
   "source": [
    "plt.hist(data.hoursperweek[data.income == '>50K'], label=['Hour-per-week, >50K'])\n",
    "plt.xlabel(\"Hours-per-week\")\n",
    "plt.ylabel(\"Count\")\n",
    "plt.legend(loc='upper right')\n",
    "np.var(data.hoursperweek[data.income == '>50K'])\n"
   ]
  },
  {
   "cell_type": "code",
   "execution_count": 28,
   "metadata": {},
   "outputs": [
    {
     "data": {
      "text/plain": [
       "152.68761695363062"
      ]
     },
     "execution_count": 28,
     "metadata": {},
     "output_type": "execute_result"
    },
    {
     "data": {
      "image/png": "[encoded data removed]",
      "text/plain": [
       "<Figure size 432x288 with 1 Axes>"
      ]
     },
     "metadata": {
      "needs_background": "light"
     },
     "output_type": "display_data"
    }
   ],
   "source": [
    "plt.hist(data.hoursperweek[data.income == '<=50K'], label=['Hour-per-week, <=50K'])\n",
    "plt.xlabel(\"Hours-per-week\")\n",
    "plt.ylabel(\"Count\")\n",
    "plt.legend(loc='upper right')\n",
    "np.var(data.hoursperweek[data.income == '<=50K'])"
   ]
  },
  {
   "cell_type": "markdown",
   "metadata": {},
   "source": [
    "### Kiểm tra phương sai bằng nhau"
   ]
  },
  {
   "cell_type": "code",
   "execution_count": 29,
   "metadata": {},
   "outputs": [
    {
     "data": {
      "text/plain": [
       "LeveneResult(statistic=11.604561926599041, pvalue=0.000658432263007638)"
      ]
     },
     "execution_count": 29,
     "metadata": {},
     "output_type": "execute_result"
    }
   ],
   "source": [
    "scipy.stats.levene(data.hoursperweek[data.income == '>50K'],data.hoursperweek[data.income == '<=50K'])"
   ]
  },
  {
   "cell_type": "markdown",
   "metadata": {},
   "source": [
    "pvalue<0.05. Phương sai không bằng nhau"
   ]
  },
  {
   "cell_type": "markdown",
   "metadata": {},
   "source": [
    "### t-test"
   ]
  },
  {
   "cell_type": "code",
   "execution_count": 30,
   "metadata": {},
   "outputs": [
    {
     "data": {
      "text/plain": [
       "Ttest_indResult(statistic=54.662247230930255, pvalue=0.0)"
      ]
     },
     "execution_count": 30,
     "metadata": {},
     "output_type": "execute_result"
    }
   ],
   "source": [
    "ttest_ind(data.hoursperweek[data.income == '>50K'],data.hoursperweek[data.income == '<=50K'],equal_var=False,nan_policy='omit')"
   ]
  },
  {
   "cell_type": "markdown",
   "metadata": {},
   "source": [
    "pvalue<0.05. Có sự khác biệt trong hours-per-week giữa hai nhóm thu nhập cao và thấp"
   ]
  },
  {
   "cell_type": "markdown",
   "metadata": {},
   "source": [
    "### Trả lời:\n",
    "- Cả 5 yếu tố Age, Capital-gain, Capital-loss, Educational-num và Hours-per-week ảnh hưởng đến tỉ lệ thu nhập cao và thấp"
   ]
  },
  {
   "cell_type": "markdown",
   "metadata": {},
   "source": [
    "## 4. Dự đoán về đặc điểm của một người có thu nhập cao<a name=\"question2\"></a>"
   ]
  },
  {
   "cell_type": "markdown",
   "metadata": {},
   "source": [
    "Phần này sẽ tìm giá trị xuất hiện nhiều nhất của Age, Capital-gain, Capital-loss, Educational-num và Hours-per-week trong 3 nhóm gồm tổng thể, thu nhập trên 50k và thu nhập dưới 50k. Sau đó sẽ so sánh các giá trị này để dự đoán đặc điểm của một người có thu nhập cao"
   ]
  },
  {
   "cell_type": "code",
   "execution_count": 31,
   "metadata": {},
   "outputs": [],
   "source": [
    "#Phân chia dữ liệu thành 2 nhóm thu nhập cao và thu nhập thấp\n",
    "thunhapcao = data.loc[data['income'] == \">50K\"]\n",
    "thunhapthap = data.loc[data['income'] == \"<=50K\"]"
   ]
  },
  {
   "cell_type": "code",
   "execution_count": 32,
   "metadata": {},
   "outputs": [
    {
     "name": "stdout",
     "output_type": "stream",
     "text": [
      "Trong tổng thể:\n",
      " - Số lần xuất hiện nhiều nhất của Age là: 37.0\n",
      " - Số lần xuất hiện nhiều nhất của Capital-gain là: 0.0\n",
      " - Số lần xuất hiện nhiều nhất của Capital-loss là: 0.0\n",
      " - Số lần xuất hiện nhiều nhất của Educational-num là: 10.0\n",
      " - Số lần xuất hiện nhiều nhất của Hours-per-week: 40.0\n",
      "Trong nhóm thu nhập cao:\n",
      " - Số lần xuất hiện nhiều nhất của Age là: 43.0\n",
      " - Số lần xuất hiện nhiều nhất của Capital-gain là: 0.0\n",
      " - Số lần xuất hiện nhiều nhất của Capital-loss là: 0.0\n",
      " - Số lần xuất hiện nhiều nhất của Educational-num là: 12.0\n",
      " - Số lần xuất hiện nhiều nhất của Hours-per-week: 40.0\n",
      "Trong nhóm thu nhập thấp:\n",
      " - Số lần xuất hiện nhiều nhất của Age là: 34.0\n",
      " - Số lần xuất hiện nhiều nhất của Capital-gain là: 0.0\n",
      " - Số lần xuất hiện nhiều nhất của Capital-loss là: 0.0\n",
      " - Số lần xuất hiện nhiều nhất của Educational-num là: 9.0\n",
      " - Số lần xuất hiện nhiều nhất của Hours-per-week: 40.0\n"
     ]
    }
   ],
   "source": [
    "#Số lần xuất hiện nhiều nhất trong tổng thể\n",
    "print(\"Trong tổng thể:\")\n",
    "print(\" - Số lần xuất hiện nhiều nhất của Age là: {}\".format(np.median(data.age)))\n",
    "print(\" - Số lần xuất hiện nhiều nhất của Capital-gain là: {}\".format(np.median(data.capitalgain)))\n",
    "print(\" - Số lần xuất hiện nhiều nhất của Capital-loss là: {}\".format(np.median(data.capitalloss)))\n",
    "print(\" - Số lần xuất hiện nhiều nhất của Educational-num là: {}\".format(np.median(data.educationalnum)))\n",
    "print(\" - Số lần xuất hiện nhiều nhất của Hours-per-week: {}\".format(np.median(data.hoursperweek)))\n",
    "#Số lần xuất hiện nhiều nhất trong nhóm thu nhập cao\n",
    "print(\"Trong nhóm thu nhập cao:\")\n",
    "print(\" - Số lần xuất hiện nhiều nhất của Age là: {}\".format(np.median(thunhapcao.age)))\n",
    "print(\" - Số lần xuất hiện nhiều nhất của Capital-gain là: {}\".format(np.median(thunhapcao.capitalgain)))\n",
    "print(\" - Số lần xuất hiện nhiều nhất của Capital-loss là: {}\".format(np.median(thunhapcao.capitalloss)))\n",
    "print(\" - Số lần xuất hiện nhiều nhất của Educational-num là: {}\".format(np.median(thunhapcao.educationalnum)))\n",
    "print(\" - Số lần xuất hiện nhiều nhất của Hours-per-week: {}\".format(np.median(thunhapcao.hoursperweek)))\n",
    "#Số lần xuất hiện nhiều nhất trong nhóm thu nhập thấp\n",
    "print(\"Trong nhóm thu nhập thấp:\")\n",
    "print(\" - Số lần xuất hiện nhiều nhất của Age là: {}\".format(np.median(thunhapthap.age)))\n",
    "print(\" - Số lần xuất hiện nhiều nhất của Capital-gain là: {}\".format(np.median(thunhapthap.capitalgain)))\n",
    "print(\" - Số lần xuất hiện nhiều nhất của Capital-loss là: {}\".format(np.median(thunhapthap.capitalloss)))\n",
    "print(\" - Số lần xuất hiện nhiều nhất của Educational-num là: {}\".format(np.median(thunhapthap.educationalnum)))\n",
    "print(\" - Số lần xuất hiện nhiều nhất của Hours-per-week: {}\".format(np.median(thunhapthap.hoursperweek)))"
   ]
  },
  {
   "cell_type": "markdown",
   "metadata": {},
   "source": [
    "- Có sự khác biệt trong số lần xuất hiện nhiều nhất của Age và Educational-num trong hai nhóm thu nhập cao và thu nhập thấp.\n",
    "- Nhưng không có sự khác biệt trong Captital-gain, Capital-loss, Hours-per-week."
   ]
  },
  {
   "cell_type": "markdown",
   "metadata": {},
   "source": [
    "### Trả lời:\n",
    "- Một người có thu nhập cao thì độ tuổi là 43 và Educational-num là 12"
   ]
  }
 ],
 "metadata": {
  "celltoolbar": "Raw Cell Format",
  "kernelspec": {
   "display_name": "Python 3",
   "language": "python",
   "name": "python3"
  },
  "language_info": {
   "codemirror_mode": {
    "name": "ipython",
    "version": 3
   },
   "file_extension": ".py",
   "mimetype": "text/x-python",
   "name": "python",
   "nbconvert_exporter": "python",
   "pygments_lexer": "ipython3",
   "version": "3.7.1"
  }
 },
 "nbformat": 4,
 "nbformat_minor": 2
}
